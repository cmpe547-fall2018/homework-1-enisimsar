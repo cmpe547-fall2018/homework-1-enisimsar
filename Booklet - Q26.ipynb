{
 "cells": [
  {
   "cell_type": "markdown",
   "metadata": {},
   "source": [
    "**Note:** Please, make sure you have installed of *numpy*, *matplotlib* and *pandas* package."
   ]
  },
  {
   "cell_type": "code",
   "execution_count": 1,
   "metadata": {},
   "outputs": [],
   "source": [
    "import numpy as np\n",
    "import pandas as pd\n",
    "from numpy import inf\n",
    "import matplotlib.pyplot as plt\n",
    "import warnings\n",
    "warnings.filterwarnings('ignore')"
   ]
  },
  {
   "cell_type": "code",
   "execution_count": 2,
   "metadata": {},
   "outputs": [],
   "source": [
    "p_x_y = np.array([[.3, .3, 0], [.1, .2, .1]])"
   ]
  },
  {
   "cell_type": "code",
   "execution_count": 3,
   "metadata": {},
   "outputs": [],
   "source": [
    "p_x = np.sum(p_x_y, axis=1)\n",
    "p_y = np.sum(p_x_y, axis=0)\n",
    "p_x_given_y = p_x_y / np.sum(p_x_y, axis=0)\n",
    "p_y_given_x = p_x_y / p_x[:, np.newaxis]"
   ]
  },
  {
   "cell_type": "code",
   "execution_count": 4,
   "metadata": {},
   "outputs": [],
   "source": [
    "expected_value = lambda z, p_z: np.sum(z * p_z)"
   ]
  },
  {
   "cell_type": "markdown",
   "metadata": {},
   "source": [
    "**1.** Expectations of $<x>$, $<y>$, $<y|x>$ $<x|y>$, and $Cov[x, y]$"
   ]
  },
  {
   "cell_type": "code",
   "execution_count": 5,
   "metadata": {},
   "outputs": [],
   "source": [
    "expected_x = expected_value([1, 2], p_x)\n",
    "expected_y = expected_value([-1, 0, 5], p_y)\n",
    "expected_y_given_x = expected_value([[1], [2]], p_y_given_x)\n",
    "expected_x_given_y = expected_value([-1, 0, 5], p_x_given_y)\n",
    "cov = expected_value(np.matmul(([1, 2] - expected_x).reshape(2,1), ([-1, 0, 5] - expected_y).reshape(1,3)), p_x_y)"
   ]
  },
  {
   "cell_type": "code",
   "execution_count": 6,
   "metadata": {},
   "outputs": [
    {
     "name": "stdout",
     "output_type": "stream",
     "text": [
      "<x> = 1.4\n",
      "<y> = 0.09999999999999998\n",
      "<y|x> = 3.0\n",
      "<x|y> = 4.0\n",
      "Cov[x, y] = 0.36000000000000004\n"
     ]
    }
   ],
   "source": [
    "print(\"<x> = {}\".format(expected_x))\n",
    "print(\"<y> = {}\".format(expected_y))\n",
    "print(\"<y|x> = {}\".format(expected_y_given_x))\n",
    "print(\"<x|y> = {}\".format(expected_x_given_y))\n",
    "print(\"Cov[x, y] = {}\".format(cov))"
   ]
  },
  {
   "cell_type": "markdown",
   "metadata": {},
   "source": [
    "**2.** Joint Entropy of $H[x,y] = -<logp(x,y)>_{p(x,y)}$"
   ]
  },
  {
   "cell_type": "code",
   "execution_count": 7,
   "metadata": {},
   "outputs": [],
   "source": [
    "log_p_x_y = np.log(p_x_y)\n",
    "log_p_x_y[log_p_x_y == -inf] = 0\n",
    "joint_entropy = - expected_value(log_p_x_y, p_x_y)"
   ]
  },
  {
   "cell_type": "code",
   "execution_count": 8,
   "metadata": {},
   "outputs": [
    {
     "name": "stdout",
     "output_type": "stream",
     "text": [
      "H[x,y] = 1.5047882836811908\n"
     ]
    }
   ],
   "source": [
    "print(\"H[x,y] = {}\".format(joint_entropy))"
   ]
  },
  {
   "cell_type": "markdown",
   "metadata": {},
   "source": [
    "**3.** Marginal Entropies of \n",
    "- $H[x] = - <logp(x)>_{p(x)}$\n",
    "- $H[y] = - <logp(y)>_{p(y)}$"
   ]
  },
  {
   "cell_type": "code",
   "execution_count": 9,
   "metadata": {},
   "outputs": [],
   "source": [
    "log_p_x = np.log(p_x)\n",
    "marginal_entropy_x = - expected_value(log_p_x, p_x)\n",
    "\n",
    "log_p_y = np.log(p_y)\n",
    "marginal_entropy_y = - expected_value(log_p_y, p_y)"
   ]
  },
  {
   "cell_type": "code",
   "execution_count": 10,
   "metadata": {},
   "outputs": [
    {
     "name": "stdout",
     "output_type": "stream",
     "text": [
      "H[x] = 0.6730116670092565\n",
      "H[y] = 0.9433483923290391\n"
     ]
    }
   ],
   "source": [
    "print(\"H[x] = {}\".format(marginal_entropy_x))\n",
    "print(\"H[y] = {}\".format(marginal_entropy_y))"
   ]
  },
  {
   "cell_type": "markdown",
   "metadata": {},
   "source": [
    "**4.** Contional Entropies of \n",
    "- $H[y|x] = - <logp(y|x)>_{p(x,y)}$\n",
    "- $H[x|y] = - <logp(x|y)>_{p(x,y)}$"
   ]
  },
  {
   "cell_type": "code",
   "execution_count": 11,
   "metadata": {},
   "outputs": [],
   "source": [
    "log_p_y_given_x = np.log(p_y_given_x)\n",
    "log_p_y_given_x[log_p_y_given_x == -inf] = 0\n",
    "conditional_entropy_y_given_x = - expected_value(log_p_y_given_x, p_x_y)\n",
    "\n",
    "log_p_x_given_y = np.log(p_x_given_y)\n",
    "log_p_x_given_y[log_p_x_given_y == -inf] = 0\n",
    "conditional_entropy_x_given_y = - expected_value(log_p_x_given_y, p_x_y)"
   ]
  },
  {
   "cell_type": "code",
   "execution_count": 12,
   "metadata": {},
   "outputs": [
    {
     "name": "stdout",
     "output_type": "stream",
     "text": [
      "H[y|x] = 0.8317766166719344\n",
      "H[x|y] = 0.5614398913521517\n"
     ]
    }
   ],
   "source": [
    "print(\"H[y|x] = {}\".format(conditional_entropy_y_given_x))\n",
    "print(\"H[x|y] = {}\".format(conditional_entropy_x_given_y))"
   ]
  },
  {
   "cell_type": "markdown",
   "metadata": {},
   "source": [
    "**5.** Mutual Information $I(x,y) = H[x] - H[x|y] = KL(p(x,y) || p(x)p(y))$"
   ]
  },
  {
   "cell_type": "code",
   "execution_count": 13,
   "metadata": {},
   "outputs": [],
   "source": [
    "mutual_information = marginal_entropy_x - conditional_entropy_x_given_y"
   ]
  },
  {
   "cell_type": "code",
   "execution_count": 14,
   "metadata": {},
   "outputs": [
    {
     "name": "stdout",
     "output_type": "stream",
     "text": [
      "I(x,y) = 0.11157177565710485\n"
     ]
    }
   ],
   "source": [
    "print(\"I(x,y) = {}\".format(mutual_information))"
   ]
  },
  {
   "cell_type": "markdown",
   "metadata": {},
   "source": [
    "**6.** Test your program for the following joint probability table.\n",
    "\n",
    "I tested the table above."
   ]
  },
  {
   "cell_type": "markdown",
   "metadata": {},
   "source": [
    "**7.** Verify the following picture"
   ]
  },
  {
   "cell_type": "code",
   "execution_count": 15,
   "metadata": {},
   "outputs": [
    {
     "data": {
      "image/png": "[encoded data removed]",
      "text/plain": [
       "<Figure size 1080x648 with 1 Axes>"
      ]
     },
     "metadata": {},
     "output_type": "display_data"
    }
   ],
   "source": [
    "index = ['col_1', 'col_2', 'col_3', 'col_4']\n",
    "df = pd.DataFrame({'H(X,Y)': pd.Series([joint_entropy,np.nan,np.nan,np.nan], index=index),\n",
    "                  'H(X)': pd.Series([np.nan,marginal_entropy_x,np.nan,np.nan], index=index),\n",
    "                  'padding for H(Y)': pd.Series([np.nan,np.nan,joint_entropy-marginal_entropy_y,np.nan], index=index),\n",
    "                  'H(Y)': pd.Series([np.nan,np.nan,marginal_entropy_y,np.nan], index=index),\n",
    "                  'H(X|Y)': pd.Series([np.nan,np.nan,np.nan,conditional_entropy_x_given_y], index=index),\n",
    "                  'I(X;Y)': pd.Series([np.nan,np.nan,np.nan,mutual_information], index=index),\n",
    "                  'H(Y|X)': pd.Series([np.nan,np.nan,np.nan,conditional_entropy_y_given_x], index=index),\n",
    "              })\n",
    "df = df.iloc[::-1]\n",
    "ax = df.plot.barh(title=\"Verify the following chart\", legend=False, figsize=(15,9), stacked=True)\n",
    "\n",
    "ax.barh([1], [joint_entropy-marginal_entropy_y], color='w')\n",
    "\n",
    "ax.text(joint_entropy/2, 3, 'H(X,Y)', weight='bold', size='xx-large', ha='center', va='center', color='white')\n",
    "ax.text(marginal_entropy_x/2, 2, 'H(X)', weight='bold', size='xx-large', ha='center', va='center', color='white')\n",
    "ax.text(joint_entropy-marginal_entropy_y/2, 1, 'H(Y)', weight='bold', size='xx-large', ha='center', va='center', color='white')\n",
    "ax.text(conditional_entropy_x_given_y/2, 0, 'H(X|Y)', weight='bold', size='xx-large', ha='center', va='center', color='white')\n",
    "ax.text(conditional_entropy_x_given_y+mutual_information/2, 0, 'I(X;Y)', weight='bold', size='xx-large', ha='center', va='center', color='white')\n",
    "ax.text(joint_entropy-conditional_entropy_y_given_x/2, 0, 'H(Y|X)', weight='bold', size='xx-large', ha='center', va='center', color='white')\n",
    "\n",
    "plt.axvline(x=marginal_entropy_x, color='m', linestyle='--')\n",
    "plt.axvline(x=joint_entropy-marginal_entropy_y, color='c', linestyle='--')\n",
    "\n",
    "plt.show()"
   ]
  }
 ],
 "metadata": {
  "kernelspec": {
   "display_name": "Python 3",
   "language": "python",
   "name": "python3"
  },
  "language_info": {
   "codemirror_mode": {
    "name": "ipython",
    "version": 3
   },
   "file_extension": ".py",
   "mimetype": "text/x-python",
   "name": "python",
   "nbconvert_exporter": "python",
   "pygments_lexer": "ipython3",
   "version": "3.6.5"
  }
 },
 "nbformat": 4,
 "nbformat_minor": 2
}
